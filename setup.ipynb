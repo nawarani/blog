{
 "cells": [
  {
   "cell_type": "code",
   "execution_count": 2,
   "metadata": {},
   "outputs": [
    {
     "name": "stdout",
     "output_type": "stream",
     "text": [
      "Requirement already satisfied: pelican in c:\\programdata\\anaconda3\\lib\\site-packages (from -r requirements.txt (line 1)) (4.1.1)\n",
      "Requirement already satisfied: Markdown in c:\\programdata\\anaconda3\\lib\\site-packages (from -r requirements.txt (line 2)) (3.1.1)\n",
      "Requirement already satisfied: fire in c:\\programdata\\anaconda3\\lib\\site-packages (from -r requirements.txt (line 3)) (0.2.1)\n",
      "Requirement already satisfied: jupyter in c:\\programdata\\anaconda3\\lib\\site-packages (from -r requirements.txt (line 4)) (1.0.0)\n",
      "Requirement already satisfied: ghp-import in c:\\programdata\\anaconda3\\lib\\site-packages (from -r requirements.txt (line 5)) (0.5.5)\n",
      "Requirement already satisfied: jupyter_contrib_nbextensions in c:\\programdata\\anaconda3\\lib\\site-packages (from -r requirements.txt (line 6)) (0.5.1)\n",
      "Requirement already satisfied: six>=1.4 in c:\\programdata\\anaconda3\\lib\\site-packages (from pelican->-r requirements.txt (line 1)) (1.12.0)\n",
      "Requirement already satisfied: blinker in c:\\programdata\\anaconda3\\lib\\site-packages (from pelican->-r requirements.txt (line 1)) (1.4)\n",
      "Requirement already satisfied: jinja2>=2.7 in c:\\programdata\\anaconda3\\lib\\site-packages (from pelican->-r requirements.txt (line 1)) (2.10.1)\n",
      "Requirement already satisfied: docutils in c:\\programdata\\anaconda3\\lib\\site-packages (from pelican->-r requirements.txt (line 1)) (0.14)\n",
      "Requirement already satisfied: pytz>=0a in c:\\programdata\\anaconda3\\lib\\site-packages (from pelican->-r requirements.txt (line 1)) (2019.1)\n",
      "Requirement already satisfied: pygments in c:\\programdata\\anaconda3\\lib\\site-packages (from pelican->-r requirements.txt (line 1)) (2.4.2)\n",
      "Requirement already satisfied: unidecode in c:\\programdata\\anaconda3\\lib\\site-packages (from pelican->-r requirements.txt (line 1)) (1.1.1)\n",
      "Requirement already satisfied: python-dateutil in c:\\programdata\\anaconda3\\lib\\site-packages (from pelican->-r requirements.txt (line 1)) (2.8.0)\n",
      "Requirement already satisfied: feedgenerator>=1.9 in c:\\programdata\\anaconda3\\lib\\site-packages (from pelican->-r requirements.txt (line 1)) (1.9)\n",
      "Requirement already satisfied: setuptools>=36 in c:\\programdata\\anaconda3\\lib\\site-packages (from Markdown->-r requirements.txt (line 2)) (41.0.1)\n",
      "Requirement already satisfied: termcolor in c:\\programdata\\anaconda3\\lib\\site-packages (from fire->-r requirements.txt (line 3)) (1.1.0)\n",
      "Requirement already satisfied: ipykernel in c:\\programdata\\anaconda3\\lib\\site-packages (from jupyter->-r requirements.txt (line 4)) (5.1.1)\n",
      "Requirement already satisfied: jupyter-console in c:\\programdata\\anaconda3\\lib\\site-packages (from jupyter->-r requirements.txt (line 4)) (6.0.0)\n",
      "Requirement already satisfied: qtconsole in c:\\programdata\\anaconda3\\lib\\site-packages (from jupyter->-r requirements.txt (line 4)) (4.5.1)\n",
      "Requirement already satisfied: notebook in c:\\programdata\\anaconda3\\lib\\site-packages (from jupyter->-r requirements.txt (line 4)) (6.0.0)\n",
      "Requirement already satisfied: ipywidgets in c:\\programdata\\anaconda3\\lib\\site-packages (from jupyter->-r requirements.txt (line 4)) (7.5.0)\n",
      "Requirement already satisfied: nbconvert in c:\\programdata\\anaconda3\\lib\\site-packages (from jupyter->-r requirements.txt (line 4)) (5.5.0)\n",
      "Requirement already satisfied: jupyter-contrib-core>=0.3.3 in c:\\programdata\\anaconda3\\lib\\site-packages (from jupyter_contrib_nbextensions->-r requirements.txt (line 6)) (0.3.3)\n",
      "Requirement already satisfied: traitlets>=4.1 in c:\\programdata\\anaconda3\\lib\\site-packages (from jupyter_contrib_nbextensions->-r requirements.txt (line 6)) (4.3.2)\n",
      "Requirement already satisfied: jupyter-latex-envs>=1.3.8 in c:\\programdata\\anaconda3\\lib\\site-packages (from jupyter_contrib_nbextensions->-r requirements.txt (line 6)) (1.4.6)\n",
      "Requirement already satisfied: pyyaml in c:\\programdata\\anaconda3\\lib\\site-packages (from jupyter_contrib_nbextensions->-r requirements.txt (line 6)) (5.1.1)\n",
      "Requirement already satisfied: lxml in c:\\programdata\\anaconda3\\lib\\site-packages (from jupyter_contrib_nbextensions->-r requirements.txt (line 6)) (4.3.4)\n",
      "Requirement already satisfied: ipython-genutils in c:\\programdata\\anaconda3\\lib\\site-packages (from jupyter_contrib_nbextensions->-r requirements.txt (line 6)) (0.2.0)\n",
      "Requirement already satisfied: jupyter-highlight-selected-word>=0.1.1 in c:\\programdata\\anaconda3\\lib\\site-packages (from jupyter_contrib_nbextensions->-r requirements.txt (line 6)) (0.2.0)\n",
      "Requirement already satisfied: jupyter-nbextensions-configurator>=0.4.0 in c:\\programdata\\anaconda3\\lib\\site-packages (from jupyter_contrib_nbextensions->-r requirements.txt (line 6)) (0.4.1)\n",
      "Requirement already satisfied: jupyter-core in c:\\programdata\\anaconda3\\lib\\site-packages (from jupyter_contrib_nbextensions->-r requirements.txt (line 6)) (4.5.0)\n",
      "Requirement already satisfied: tornado in c:\\programdata\\anaconda3\\lib\\site-packages (from jupyter_contrib_nbextensions->-r requirements.txt (line 6)) (6.0.3)\n",
      "Requirement already satisfied: MarkupSafe>=0.23 in c:\\programdata\\anaconda3\\lib\\site-packages (from jinja2>=2.7->pelican->-r requirements.txt (line 1)) (1.1.1)\n",
      "Requirement already satisfied: ipython>=5.0.0 in c:\\programdata\\anaconda3\\lib\\site-packages (from ipykernel->jupyter->-r requirements.txt (line 4)) (7.6.1)\n",
      "Requirement already satisfied: jupyter-client in c:\\programdata\\anaconda3\\lib\\site-packages (from ipykernel->jupyter->-r requirements.txt (line 4)) (5.3.1)\n",
      "Requirement already satisfied: prompt_toolkit<2.1.0,>=2.0.0 in c:\\programdata\\anaconda3\\lib\\site-packages (from jupyter-console->jupyter->-r requirements.txt (line 4)) (2.0.9)\n",
      "Requirement already satisfied: Send2Trash in c:\\programdata\\anaconda3\\lib\\site-packages (from notebook->jupyter->-r requirements.txt (line 4)) (1.5.0)\n",
      "Requirement already satisfied: nbformat in c:\\programdata\\anaconda3\\lib\\site-packages (from notebook->jupyter->-r requirements.txt (line 4)) (4.4.0)\n",
      "Requirement already satisfied: pyzmq>=17 in c:\\programdata\\anaconda3\\lib\\site-packages (from notebook->jupyter->-r requirements.txt (line 4)) (18.0.0)\n",
      "Requirement already satisfied: terminado>=0.8.1 in c:\\programdata\\anaconda3\\lib\\site-packages (from notebook->jupyter->-r requirements.txt (line 4)) (0.8.2)\n",
      "Requirement already satisfied: prometheus-client in c:\\programdata\\anaconda3\\lib\\site-packages (from notebook->jupyter->-r requirements.txt (line 4)) (0.7.1)\n",
      "Requirement already satisfied: widgetsnbextension~=3.5.0 in c:\\programdata\\anaconda3\\lib\\site-packages (from ipywidgets->jupyter->-r requirements.txt (line 4)) (3.5.0)\n",
      "Requirement already satisfied: mistune>=0.8.1 in c:\\programdata\\anaconda3\\lib\\site-packages (from nbconvert->jupyter->-r requirements.txt (line 4)) (0.8.4)\n",
      "Requirement already satisfied: testpath in c:\\programdata\\anaconda3\\lib\\site-packages (from nbconvert->jupyter->-r requirements.txt (line 4)) (0.4.2)\n",
      "Requirement already satisfied: defusedxml in c:\\programdata\\anaconda3\\lib\\site-packages (from nbconvert->jupyter->-r requirements.txt (line 4)) (0.6.0)\n",
      "Requirement already satisfied: bleach in c:\\programdata\\anaconda3\\lib\\site-packages (from nbconvert->jupyter->-r requirements.txt (line 4)) (3.1.0)\n",
      "Requirement already satisfied: pandocfilters>=1.4.1 in c:\\programdata\\anaconda3\\lib\\site-packages (from nbconvert->jupyter->-r requirements.txt (line 4)) (1.4.2)\n",
      "Requirement already satisfied: entrypoints>=0.2.2 in c:\\programdata\\anaconda3\\lib\\site-packages (from nbconvert->jupyter->-r requirements.txt (line 4)) (0.3)\n",
      "Requirement already satisfied: decorator in c:\\programdata\\anaconda3\\lib\\site-packages (from traitlets>=4.1->jupyter_contrib_nbextensions->-r requirements.txt (line 6)) (4.4.0)\n",
      "Requirement already satisfied: pickleshare in c:\\programdata\\anaconda3\\lib\\site-packages (from ipython>=5.0.0->ipykernel->jupyter->-r requirements.txt (line 4)) (0.7.5)\n",
      "Requirement already satisfied: jedi>=0.10 in c:\\programdata\\anaconda3\\lib\\site-packages (from ipython>=5.0.0->ipykernel->jupyter->-r requirements.txt (line 4)) (0.13.3)\n",
      "Requirement already satisfied: backcall in c:\\programdata\\anaconda3\\lib\\site-packages (from ipython>=5.0.0->ipykernel->jupyter->-r requirements.txt (line 4)) (0.1.0)\n",
      "Requirement already satisfied: colorama; sys_platform == \"win32\" in c:\\programdata\\anaconda3\\lib\\site-packages (from ipython>=5.0.0->ipykernel->jupyter->-r requirements.txt (line 4)) (0.4.1)\n",
      "Requirement already satisfied: wcwidth in c:\\programdata\\anaconda3\\lib\\site-packages (from prompt_toolkit<2.1.0,>=2.0.0->jupyter-console->jupyter->-r requirements.txt (line 4)) (0.1.7)\n",
      "Requirement already satisfied: jsonschema!=2.5.0,>=2.4 in c:\\programdata\\anaconda3\\lib\\site-packages (from nbformat->notebook->jupyter->-r requirements.txt (line 4)) (3.0.1)\n",
      "Requirement already satisfied: webencodings in c:\\programdata\\anaconda3\\lib\\site-packages (from bleach->nbconvert->jupyter->-r requirements.txt (line 4)) (0.5.1)\n",
      "Requirement already satisfied: parso>=0.3.0 in c:\\programdata\\anaconda3\\lib\\site-packages (from jedi>=0.10->ipython>=5.0.0->ipykernel->jupyter->-r requirements.txt (line 4)) (0.5.0)\n",
      "Requirement already satisfied: attrs>=17.4.0 in c:\\programdata\\anaconda3\\lib\\site-packages (from jsonschema!=2.5.0,>=2.4->nbformat->notebook->jupyter->-r requirements.txt (line 4)) (19.1.0)\n",
      "Requirement already satisfied: pyrsistent>=0.14.0 in c:\\programdata\\anaconda3\\lib\\site-packages (from jsonschema!=2.5.0,>=2.4->nbformat->notebook->jupyter->-r requirements.txt (line 4)) (0.14.11)\n"
     ]
    }
   ],
   "source": [
    "!pip install -r requirements.txt"
   ]
  },
  {
   "cell_type": "code",
   "execution_count": 2,
   "metadata": {},
   "outputs": [
    {
     "name": "stdout",
     "output_type": "stream",
     "text": [
      "Done: Processed 1 article, 0 drafts, 0 pages, 0 hidden pages and 0 draft pages in 0.14 seconds.\n"
     ]
    }
   ],
   "source": [
    "!pelican -s pelicanconf.py -o output content"
   ]
  },
  {
   "cell_type": "code",
   "execution_count": 3,
   "metadata": {},
   "outputs": [
    {
     "name": "stderr",
     "output_type": "stream",
     "text": [
      "The system cannot find the path specified.\n"
     ]
    }
   ],
   "source": [
    "!cd output; python -m http.server"
   ]
  },
  {
   "cell_type": "code",
   "execution_count": 4,
   "metadata": {},
   "outputs": [
    {
     "name": "stderr",
     "output_type": "stream",
     "text": [
      "'ls' is not recognized as an internal or external command,\n",
      "operable program or batch file.\n"
     ]
    }
   ],
   "source": []
  },
  {
   "cell_type": "code",
   "execution_count": null,
   "metadata": {},
   "outputs": [],
   "source": []
  }
 ],
 "metadata": {
  "kernelspec": {
   "display_name": "Python 3",
   "language": "python",
   "name": "python3"
  },
  "language_info": {
   "codemirror_mode": {
    "name": "ipython",
    "version": 3
   },
   "file_extension": ".py",
   "mimetype": "text/x-python",
   "name": "python",
   "nbconvert_exporter": "python",
   "pygments_lexer": "ipython3",
   "version": "3.7.3"
  }
 },
 "nbformat": 4,
 "nbformat_minor": 2
}
